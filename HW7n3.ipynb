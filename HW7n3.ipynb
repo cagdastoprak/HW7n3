{
  "nbformat": 4,
  "nbformat_minor": 0,
  "metadata": {
    "colab": {
      "name": "HW7n3.ipynb",
      "provenance": []
    },
    "kernelspec": {
      "name": "python3",
      "display_name": "Python 3"
    }
  },
  "cells": [
    {
      "cell_type": "code",
      "metadata": {
        "id": "jeBXjcyKPXDn",
        "colab_type": "code",
        "colab": {
          "base_uri": "https://localhost:8080/",
          "height": 34
        },
        "outputId": "365b0b52-b932-4ba3-b58c-01f84b6df5e7"
      },
      "source": [
        "from google.colab import drive\n",
        "drive.mount('/content/drive')"
      ],
      "execution_count": 182,
      "outputs": [
        {
          "output_type": "stream",
          "text": [
            "Drive already mounted at /content/drive; to attempt to forcibly remount, call drive.mount(\"/content/drive\", force_remount=True).\n"
          ],
          "name": "stdout"
        }
      ]
    },
    {
      "cell_type": "code",
      "metadata": {
        "id": "VLzhPzCBeOM3",
        "colab_type": "code",
        "colab": {
          "base_uri": "https://localhost:8080/",
          "height": 50
        },
        "outputId": "1216bb36-97e1-4f8a-aad3-7cd29a65d6c3"
      },
      "source": [
        "%cd /content/drive/My\\ Drive/Colab\\ Notebooks/data/Titanic\n",
        "# change directory\n",
        "%pwd  # Ben neredeyim komutu\n",
        "!ls    # İçerisinde ne var "
      ],
      "execution_count": 183,
      "outputs": [
        {
          "output_type": "stream",
          "text": [
            "/content/drive/My Drive/Colab Notebooks/data/Titanic\n",
            "gender_submission.csv  test.csv  train.csv\n"
          ],
          "name": "stdout"
        }
      ]
    },
    {
      "cell_type": "code",
      "metadata": {
        "id": "UdXscSP6eRiG",
        "colab_type": "code",
        "colab": {}
      },
      "source": [
        "import pandas as pd\n",
        "import numpy as np\n",
        "from sklearn import linear_model\n",
        "from sklearn.linear_model import LinearRegression\n",
        "from sklearn.model_selection import train_test_split\n",
        "from sklearn.metrics import mean_absolute_error\n",
        "import statsmodels.api as sm\n",
        "from statsmodels.tools.eval_measures import mse, rmse\n",
        "\n",
        "%matplotlib inline\n",
        "pd.options.display.float_format = '{:.3f}'.format\n",
        "\n",
        "import matplotlib.pyplot as plt\n",
        "import seaborn as sns\n",
        "import statsmodels.api as sm\n",
        "from sklearn import linear_model\n",
        "import math\n",
        "#from matplotlib.mlab import PCA as mlabPCA\n",
        "from sklearn.preprocessing import StandardScaler\n",
        "from sklearn.decomposition import PCA\n",
        "from sqlalchemy import create_engine\n",
        "pd.options.display.max_columns = None #kolon ve satır gösterim limitlerini sıfırlamak\n",
        "pd.options.display.max_rows = None  #kolon ve satır gösterim limitlerini sıfırlamak\n",
        "import warnings\n",
        "\n",
        "warnings.filterwarnings('ignore')\n",
        "\n",
        "%matplotlib inline\n",
        "pd.options.display.float_format = '{:.3f}'.format"
      ],
      "execution_count": 184,
      "outputs": []
    },
    {
      "cell_type": "code",
      "metadata": {
        "id": "MHQE55_YeWqq",
        "colab_type": "code",
        "colab": {
          "base_uri": "https://localhost:8080/",
          "height": 229
        },
        "outputId": "1639e2e3-7386-4d38-96ff-03f80a83d743"
      },
      "source": [
        "original_data = pd.read_csv(\"train.csv\")\n",
        "data=original_data.copy()\n",
        "original_data.head()"
      ],
      "execution_count": 185,
      "outputs": [
        {
          "output_type": "execute_result",
          "data": {
            "text/html": [
              "<div>\n",
              "<style scoped>\n",
              "    .dataframe tbody tr th:only-of-type {\n",
              "        vertical-align: middle;\n",
              "    }\n",
              "\n",
              "    .dataframe tbody tr th {\n",
              "        vertical-align: top;\n",
              "    }\n",
              "\n",
              "    .dataframe thead th {\n",
              "        text-align: right;\n",
              "    }\n",
              "</style>\n",
              "<table border=\"1\" class=\"dataframe\">\n",
              "  <thead>\n",
              "    <tr style=\"text-align: right;\">\n",
              "      <th></th>\n",
              "      <th>PassengerId</th>\n",
              "      <th>Survived</th>\n",
              "      <th>Pclass</th>\n",
              "      <th>Name</th>\n",
              "      <th>Sex</th>\n",
              "      <th>Age</th>\n",
              "      <th>SibSp</th>\n",
              "      <th>Parch</th>\n",
              "      <th>Ticket</th>\n",
              "      <th>Fare</th>\n",
              "      <th>Cabin</th>\n",
              "      <th>Embarked</th>\n",
              "    </tr>\n",
              "  </thead>\n",
              "  <tbody>\n",
              "    <tr>\n",
              "      <th>0</th>\n",
              "      <td>1</td>\n",
              "      <td>0</td>\n",
              "      <td>3</td>\n",
              "      <td>Braund, Mr. Owen Harris</td>\n",
              "      <td>male</td>\n",
              "      <td>22.000</td>\n",
              "      <td>1</td>\n",
              "      <td>0</td>\n",
              "      <td>A/5 21171</td>\n",
              "      <td>7.250</td>\n",
              "      <td>NaN</td>\n",
              "      <td>S</td>\n",
              "    </tr>\n",
              "    <tr>\n",
              "      <th>1</th>\n",
              "      <td>2</td>\n",
              "      <td>1</td>\n",
              "      <td>1</td>\n",
              "      <td>Cumings, Mrs. John Bradley (Florence Briggs Th...</td>\n",
              "      <td>female</td>\n",
              "      <td>38.000</td>\n",
              "      <td>1</td>\n",
              "      <td>0</td>\n",
              "      <td>PC 17599</td>\n",
              "      <td>71.283</td>\n",
              "      <td>C85</td>\n",
              "      <td>C</td>\n",
              "    </tr>\n",
              "    <tr>\n",
              "      <th>2</th>\n",
              "      <td>3</td>\n",
              "      <td>1</td>\n",
              "      <td>3</td>\n",
              "      <td>Heikkinen, Miss. Laina</td>\n",
              "      <td>female</td>\n",
              "      <td>26.000</td>\n",
              "      <td>0</td>\n",
              "      <td>0</td>\n",
              "      <td>STON/O2. 3101282</td>\n",
              "      <td>7.925</td>\n",
              "      <td>NaN</td>\n",
              "      <td>S</td>\n",
              "    </tr>\n",
              "    <tr>\n",
              "      <th>3</th>\n",
              "      <td>4</td>\n",
              "      <td>1</td>\n",
              "      <td>1</td>\n",
              "      <td>Futrelle, Mrs. Jacques Heath (Lily May Peel)</td>\n",
              "      <td>female</td>\n",
              "      <td>35.000</td>\n",
              "      <td>1</td>\n",
              "      <td>0</td>\n",
              "      <td>113803</td>\n",
              "      <td>53.100</td>\n",
              "      <td>C123</td>\n",
              "      <td>S</td>\n",
              "    </tr>\n",
              "    <tr>\n",
              "      <th>4</th>\n",
              "      <td>5</td>\n",
              "      <td>0</td>\n",
              "      <td>3</td>\n",
              "      <td>Allen, Mr. William Henry</td>\n",
              "      <td>male</td>\n",
              "      <td>35.000</td>\n",
              "      <td>0</td>\n",
              "      <td>0</td>\n",
              "      <td>373450</td>\n",
              "      <td>8.050</td>\n",
              "      <td>NaN</td>\n",
              "      <td>S</td>\n",
              "    </tr>\n",
              "  </tbody>\n",
              "</table>\n",
              "</div>"
            ],
            "text/plain": [
              "   PassengerId  Survived  Pclass  \\\n",
              "0            1         0       3   \n",
              "1            2         1       1   \n",
              "2            3         1       3   \n",
              "3            4         1       1   \n",
              "4            5         0       3   \n",
              "\n",
              "                                                Name     Sex    Age  SibSp  \\\n",
              "0                            Braund, Mr. Owen Harris    male 22.000      1   \n",
              "1  Cumings, Mrs. John Bradley (Florence Briggs Th...  female 38.000      1   \n",
              "2                             Heikkinen, Miss. Laina  female 26.000      0   \n",
              "3       Futrelle, Mrs. Jacques Heath (Lily May Peel)  female 35.000      1   \n",
              "4                           Allen, Mr. William Henry    male 35.000      0   \n",
              "\n",
              "   Parch            Ticket   Fare Cabin Embarked  \n",
              "0      0         A/5 21171  7.250   NaN        S  \n",
              "1      0          PC 17599 71.283   C85        C  \n",
              "2      0  STON/O2. 3101282  7.925   NaN        S  \n",
              "3      0            113803 53.100  C123        S  \n",
              "4      0            373450  8.050   NaN        S  "
            ]
          },
          "metadata": {
            "tags": []
          },
          "execution_count": 185
        }
      ]
    },
    {
      "cell_type": "code",
      "metadata": {
        "id": "zbV7CGeufASd",
        "colab_type": "code",
        "colab": {
          "base_uri": "https://localhost:8080/",
          "height": 118
        },
        "outputId": "dc53c42d-f045-4cfa-9b96-b42810b03ec3"
      },
      "source": [
        "X=data[['Pclass','Sex','SibSp','Parch','Fare','Embarked']]\n",
        "X.head()\n",
        "Y=data['Survived']\n",
        "Y.head()"
      ],
      "execution_count": 186,
      "outputs": [
        {
          "output_type": "execute_result",
          "data": {
            "text/plain": [
              "0    0\n",
              "1    1\n",
              "2    1\n",
              "3    1\n",
              "4    0\n",
              "Name: Survived, dtype: int64"
            ]
          },
          "metadata": {
            "tags": []
          },
          "execution_count": 186
        }
      ]
    },
    {
      "cell_type": "code",
      "metadata": {
        "id": "PF9OO0H3f5-m",
        "colab_type": "code",
        "colab": {
          "base_uri": "https://localhost:8080/",
          "height": 195
        },
        "outputId": "2e98a92a-d279-4833-b2ce-98177fa7caa2"
      },
      "source": [
        "X=pd.get_dummies(X,prefix_sep='_',drop_first=True)\n",
        "X.head()"
      ],
      "execution_count": 187,
      "outputs": [
        {
          "output_type": "execute_result",
          "data": {
            "text/html": [
              "<div>\n",
              "<style scoped>\n",
              "    .dataframe tbody tr th:only-of-type {\n",
              "        vertical-align: middle;\n",
              "    }\n",
              "\n",
              "    .dataframe tbody tr th {\n",
              "        vertical-align: top;\n",
              "    }\n",
              "\n",
              "    .dataframe thead th {\n",
              "        text-align: right;\n",
              "    }\n",
              "</style>\n",
              "<table border=\"1\" class=\"dataframe\">\n",
              "  <thead>\n",
              "    <tr style=\"text-align: right;\">\n",
              "      <th></th>\n",
              "      <th>Pclass</th>\n",
              "      <th>SibSp</th>\n",
              "      <th>Parch</th>\n",
              "      <th>Fare</th>\n",
              "      <th>Sex_male</th>\n",
              "      <th>Embarked_Q</th>\n",
              "      <th>Embarked_S</th>\n",
              "    </tr>\n",
              "  </thead>\n",
              "  <tbody>\n",
              "    <tr>\n",
              "      <th>0</th>\n",
              "      <td>3</td>\n",
              "      <td>1</td>\n",
              "      <td>0</td>\n",
              "      <td>7.250</td>\n",
              "      <td>1</td>\n",
              "      <td>0</td>\n",
              "      <td>1</td>\n",
              "    </tr>\n",
              "    <tr>\n",
              "      <th>1</th>\n",
              "      <td>1</td>\n",
              "      <td>1</td>\n",
              "      <td>0</td>\n",
              "      <td>71.283</td>\n",
              "      <td>0</td>\n",
              "      <td>0</td>\n",
              "      <td>0</td>\n",
              "    </tr>\n",
              "    <tr>\n",
              "      <th>2</th>\n",
              "      <td>3</td>\n",
              "      <td>0</td>\n",
              "      <td>0</td>\n",
              "      <td>7.925</td>\n",
              "      <td>0</td>\n",
              "      <td>0</td>\n",
              "      <td>1</td>\n",
              "    </tr>\n",
              "    <tr>\n",
              "      <th>3</th>\n",
              "      <td>1</td>\n",
              "      <td>1</td>\n",
              "      <td>0</td>\n",
              "      <td>53.100</td>\n",
              "      <td>0</td>\n",
              "      <td>0</td>\n",
              "      <td>1</td>\n",
              "    </tr>\n",
              "    <tr>\n",
              "      <th>4</th>\n",
              "      <td>3</td>\n",
              "      <td>0</td>\n",
              "      <td>0</td>\n",
              "      <td>8.050</td>\n",
              "      <td>1</td>\n",
              "      <td>0</td>\n",
              "      <td>1</td>\n",
              "    </tr>\n",
              "  </tbody>\n",
              "</table>\n",
              "</div>"
            ],
            "text/plain": [
              "   Pclass  SibSp  Parch   Fare  Sex_male  Embarked_Q  Embarked_S\n",
              "0       3      1      0  7.250         1           0           1\n",
              "1       1      1      0 71.283         0           0           0\n",
              "2       3      0      0  7.925         0           0           1\n",
              "3       1      1      0 53.100         0           0           1\n",
              "4       3      0      0  8.050         1           0           1"
            ]
          },
          "metadata": {
            "tags": []
          },
          "execution_count": 187
        }
      ]
    },
    {
      "cell_type": "code",
      "metadata": {
        "id": "vwYt5hvjgUh6",
        "colab_type": "code",
        "colab": {
          "base_uri": "https://localhost:8080/",
          "height": 252
        },
        "outputId": "dfc19efa-f1ee-42e7-9449-2a9b24ab1bae"
      },
      "source": [
        "X.info()"
      ],
      "execution_count": 188,
      "outputs": [
        {
          "output_type": "stream",
          "text": [
            "<class 'pandas.core.frame.DataFrame'>\n",
            "RangeIndex: 891 entries, 0 to 890\n",
            "Data columns (total 7 columns):\n",
            " #   Column      Non-Null Count  Dtype  \n",
            "---  ------      --------------  -----  \n",
            " 0   Pclass      891 non-null    int64  \n",
            " 1   SibSp       891 non-null    int64  \n",
            " 2   Parch       891 non-null    int64  \n",
            " 3   Fare        891 non-null    float64\n",
            " 4   Sex_male    891 non-null    uint8  \n",
            " 5   Embarked_Q  891 non-null    uint8  \n",
            " 6   Embarked_S  891 non-null    uint8  \n",
            "dtypes: float64(1), int64(3), uint8(3)\n",
            "memory usage: 30.6 KB\n"
          ],
          "name": "stdout"
        }
      ]
    },
    {
      "cell_type": "code",
      "metadata": {
        "id": "tYV3TtBpgkI_",
        "colab_type": "code",
        "colab": {}
      },
      "source": [
        "#X['Age'].unique()"
      ],
      "execution_count": 189,
      "outputs": []
    },
    {
      "cell_type": "code",
      "metadata": {
        "id": "KzVIkvh1hUlR",
        "colab_type": "code",
        "colab": {}
      },
      "source": [
        "#X = X[~np.isnan(X['Age'])]"
      ],
      "execution_count": 190,
      "outputs": []
    },
    {
      "cell_type": "code",
      "metadata": {
        "id": "MNDL-dK-hgPx",
        "colab_type": "code",
        "colab": {}
      },
      "source": [
        "#X['Age'].unique()"
      ],
      "execution_count": 191,
      "outputs": []
    },
    {
      "cell_type": "code",
      "metadata": {
        "id": "NygODUI6hphs",
        "colab_type": "code",
        "colab": {
          "base_uri": "https://localhost:8080/",
          "height": 195
        },
        "outputId": "138365d5-d289-4584-e7eb-e9029611b585"
      },
      "source": [
        "X.head()"
      ],
      "execution_count": 192,
      "outputs": [
        {
          "output_type": "execute_result",
          "data": {
            "text/html": [
              "<div>\n",
              "<style scoped>\n",
              "    .dataframe tbody tr th:only-of-type {\n",
              "        vertical-align: middle;\n",
              "    }\n",
              "\n",
              "    .dataframe tbody tr th {\n",
              "        vertical-align: top;\n",
              "    }\n",
              "\n",
              "    .dataframe thead th {\n",
              "        text-align: right;\n",
              "    }\n",
              "</style>\n",
              "<table border=\"1\" class=\"dataframe\">\n",
              "  <thead>\n",
              "    <tr style=\"text-align: right;\">\n",
              "      <th></th>\n",
              "      <th>Pclass</th>\n",
              "      <th>SibSp</th>\n",
              "      <th>Parch</th>\n",
              "      <th>Fare</th>\n",
              "      <th>Sex_male</th>\n",
              "      <th>Embarked_Q</th>\n",
              "      <th>Embarked_S</th>\n",
              "    </tr>\n",
              "  </thead>\n",
              "  <tbody>\n",
              "    <tr>\n",
              "      <th>0</th>\n",
              "      <td>3</td>\n",
              "      <td>1</td>\n",
              "      <td>0</td>\n",
              "      <td>7.250</td>\n",
              "      <td>1</td>\n",
              "      <td>0</td>\n",
              "      <td>1</td>\n",
              "    </tr>\n",
              "    <tr>\n",
              "      <th>1</th>\n",
              "      <td>1</td>\n",
              "      <td>1</td>\n",
              "      <td>0</td>\n",
              "      <td>71.283</td>\n",
              "      <td>0</td>\n",
              "      <td>0</td>\n",
              "      <td>0</td>\n",
              "    </tr>\n",
              "    <tr>\n",
              "      <th>2</th>\n",
              "      <td>3</td>\n",
              "      <td>0</td>\n",
              "      <td>0</td>\n",
              "      <td>7.925</td>\n",
              "      <td>0</td>\n",
              "      <td>0</td>\n",
              "      <td>1</td>\n",
              "    </tr>\n",
              "    <tr>\n",
              "      <th>3</th>\n",
              "      <td>1</td>\n",
              "      <td>1</td>\n",
              "      <td>0</td>\n",
              "      <td>53.100</td>\n",
              "      <td>0</td>\n",
              "      <td>0</td>\n",
              "      <td>1</td>\n",
              "    </tr>\n",
              "    <tr>\n",
              "      <th>4</th>\n",
              "      <td>3</td>\n",
              "      <td>0</td>\n",
              "      <td>0</td>\n",
              "      <td>8.050</td>\n",
              "      <td>1</td>\n",
              "      <td>0</td>\n",
              "      <td>1</td>\n",
              "    </tr>\n",
              "  </tbody>\n",
              "</table>\n",
              "</div>"
            ],
            "text/plain": [
              "   Pclass  SibSp  Parch   Fare  Sex_male  Embarked_Q  Embarked_S\n",
              "0       3      1      0  7.250         1           0           1\n",
              "1       1      1      0 71.283         0           0           0\n",
              "2       3      0      0  7.925         0           0           1\n",
              "3       1      1      0 53.100         0           0           1\n",
              "4       3      0      0  8.050         1           0           1"
            ]
          },
          "metadata": {
            "tags": []
          },
          "execution_count": 192
        }
      ]
    },
    {
      "cell_type": "code",
      "metadata": {
        "id": "kVWnEQrch5d1",
        "colab_type": "code",
        "colab": {
          "base_uri": "https://localhost:8080/",
          "height": 252
        },
        "outputId": "be7cd808-7648-4859-874e-929fbe55d3ba"
      },
      "source": [
        "X.info()"
      ],
      "execution_count": 193,
      "outputs": [
        {
          "output_type": "stream",
          "text": [
            "<class 'pandas.core.frame.DataFrame'>\n",
            "RangeIndex: 891 entries, 0 to 890\n",
            "Data columns (total 7 columns):\n",
            " #   Column      Non-Null Count  Dtype  \n",
            "---  ------      --------------  -----  \n",
            " 0   Pclass      891 non-null    int64  \n",
            " 1   SibSp       891 non-null    int64  \n",
            " 2   Parch       891 non-null    int64  \n",
            " 3   Fare        891 non-null    float64\n",
            " 4   Sex_male    891 non-null    uint8  \n",
            " 5   Embarked_Q  891 non-null    uint8  \n",
            " 6   Embarked_S  891 non-null    uint8  \n",
            "dtypes: float64(1), int64(3), uint8(3)\n",
            "memory usage: 30.6 KB\n"
          ],
          "name": "stdout"
        }
      ]
    },
    {
      "cell_type": "code",
      "metadata": {
        "id": "mieM0VdwfyUy",
        "colab_type": "code",
        "colab": {}
      },
      "source": [
        "from sklearn.linear_model import LogisticRegression\n",
        "log_reg = LogisticRegression()"
      ],
      "execution_count": 194,
      "outputs": []
    },
    {
      "cell_type": "code",
      "metadata": {
        "id": "Rr8vxCqXfzzV",
        "colab_type": "code",
        "colab": {}
      },
      "source": [
        "from sklearn.model_selection import train_test_split\n",
        "X_eğitim, X_test, Y_eğitim, Y_test =  train_test_split(X, Y, test_size=0.20, random_state=111)"
      ],
      "execution_count": 195,
      "outputs": []
    },
    {
      "cell_type": "code",
      "metadata": {
        "id": "KJ46B3rBgIvW",
        "colab_type": "code",
        "colab": {
          "base_uri": "https://localhost:8080/",
          "height": 101
        },
        "outputId": "b68de688-307e-4a6a-9079-d441949367f0"
      },
      "source": [
        "log_reg.fit(X_eğitim, Y_eğitim)"
      ],
      "execution_count": 196,
      "outputs": [
        {
          "output_type": "execute_result",
          "data": {
            "text/plain": [
              "LogisticRegression(C=1.0, class_weight=None, dual=False, fit_intercept=True,\n",
              "                   intercept_scaling=1, l1_ratio=None, max_iter=100,\n",
              "                   multi_class='auto', n_jobs=None, penalty='l2',\n",
              "                   random_state=None, solver='lbfgs', tol=0.0001, verbose=0,\n",
              "                   warm_start=False)"
            ]
          },
          "metadata": {
            "tags": []
          },
          "execution_count": 196
        }
      ]
    },
    {
      "cell_type": "code",
      "metadata": {
        "id": "vkKTajOrgMI1",
        "colab_type": "code",
        "colab": {
          "base_uri": "https://localhost:8080/",
          "height": 84
        },
        "outputId": "9bade0d2-0092-4635-a2df-e3406ef6bd90"
      },
      "source": [
        "egitim_dogruluk = log_reg.score(X_eğitim, Y_eğitim)\n",
        "test_dogruluk = log_reg.score(X_test, Y_test)\n",
        "print('One-vs-rest', '-'*20, \n",
        "      'Modelin eğitim verisindeki doğruluğu : {:.2f}'.format(egitim_dogruluk), \n",
        "      'Modelin test verisindeki doğruluğu   : {:.2f}'.format(test_dogruluk), sep='\\n')"
      ],
      "execution_count": 197,
      "outputs": [
        {
          "output_type": "stream",
          "text": [
            "One-vs-rest\n",
            "--------------------\n",
            "Modelin eğitim verisindeki doğruluğu : 0.79\n",
            "Modelin test verisindeki doğruluğu   : 0.80\n"
          ],
          "name": "stdout"
        }
      ]
    },
    {
      "cell_type": "code",
      "metadata": {
        "id": "9rD7vP6IkVlV",
        "colab_type": "code",
        "colab": {
          "base_uri": "https://localhost:8080/",
          "height": 84
        },
        "outputId": "418483da-0a51-454b-ea56-aca4c9a8a3bf"
      },
      "source": [
        "log_reg_mnm = LogisticRegression(multi_class='multinomial', solver='lbfgs')\n",
        "log_reg_mnm.fit(X_eğitim, Y_eğitim)\n",
        "egitim_dogruluk = log_reg_mnm.score(X_eğitim, Y_eğitim)\n",
        "test_dogruluk = log_reg_mnm.score(X_test, Y_test)\n",
        "print('Multinomial (Softmax)', '-'*20, \n",
        "      'Modelin eğitim verisindeki doğruluğu : {:.2f}'.format(egitim_dogruluk), \n",
        "      'Modelin test verisindeki doğruluğu   : {:.2f}'.format(test_dogruluk), sep='\\n')"
      ],
      "execution_count": 198,
      "outputs": [
        {
          "output_type": "stream",
          "text": [
            "Multinomial (Softmax)\n",
            "--------------------\n",
            "Modelin eğitim verisindeki doğruluğu : 0.79\n",
            "Modelin test verisindeki doğruluğu   : 0.80\n"
          ],
          "name": "stdout"
        }
      ]
    },
    {
      "cell_type": "code",
      "metadata": {
        "id": "_kNZIimpGXwZ",
        "colab_type": "code",
        "colab": {}
      },
      "source": [
        "x_mahmut=[[3,1,0,7.250,1,0,1]]"
      ],
      "execution_count": 199,
      "outputs": []
    },
    {
      "cell_type": "code",
      "metadata": {
        "id": "Oj2n2pKdHrAM",
        "colab_type": "code",
        "colab": {}
      },
      "source": [
        "x_ahmet=[[1,\t1,\t0,\t71.283,\t0,\t0,\t0]]"
      ],
      "execution_count": 200,
      "outputs": []
    },
    {
      "cell_type": "code",
      "metadata": {
        "id": "FTnYDLYkGpBN",
        "colab_type": "code",
        "colab": {
          "base_uri": "https://localhost:8080/",
          "height": 34
        },
        "outputId": "3a94ee3c-20f9-4316-9569-a9ffe45690d4"
      },
      "source": [
        "log_reg_mnm.predict(x_ahmet)"
      ],
      "execution_count": 201,
      "outputs": [
        {
          "output_type": "execute_result",
          "data": {
            "text/plain": [
              "array([1])"
            ]
          },
          "metadata": {
            "tags": []
          },
          "execution_count": 201
        }
      ]
    },
    {
      "cell_type": "code",
      "metadata": {
        "id": "1OEDe0CzksUb",
        "colab_type": "code",
        "colab": {
          "base_uri": "https://localhost:8080/",
          "height": 254
        },
        "outputId": "eaf006d0-10c2-4e0b-f592-18c3c0fa208d"
      },
      "source": [
        "C_değerleri = [0.001,0.01,0.1,1,10,100, 1000]\n",
        "dogruluk_df = pd.DataFrame(columns = ['C_Değeri','Doğruluk'])\n",
        "\n",
        "dogruluk_değerleri = pd.DataFrame(columns=['C Değeri', 'Eğitim Doğruluğu', 'Test Doğruluğu'])\n",
        "\n",
        "for c in C_değerleri:\n",
        "    \n",
        "    # Apply logistic regression model to training data\n",
        "    lr = LogisticRegression(penalty = 'l2', C = c, random_state = 0)\n",
        "    lr.fit(X_eğitim,Y_eğitim)\n",
        "    dogruluk_değerleri = dogruluk_değerleri.append({'C Değeri': c,\n",
        "                                                    'Eğitim Doğruluğu' : lr.score(X_eğitim, Y_eğitim),\n",
        "                                                    'Test Doğruluğu': lr.score(X_test, Y_test)\n",
        "                                                    }, ignore_index=True)\n",
        "display(dogruluk_değerleri) "
      ],
      "execution_count": 202,
      "outputs": [
        {
          "output_type": "display_data",
          "data": {
            "text/html": [
              "<div>\n",
              "<style scoped>\n",
              "    .dataframe tbody tr th:only-of-type {\n",
              "        vertical-align: middle;\n",
              "    }\n",
              "\n",
              "    .dataframe tbody tr th {\n",
              "        vertical-align: top;\n",
              "    }\n",
              "\n",
              "    .dataframe thead th {\n",
              "        text-align: right;\n",
              "    }\n",
              "</style>\n",
              "<table border=\"1\" class=\"dataframe\">\n",
              "  <thead>\n",
              "    <tr style=\"text-align: right;\">\n",
              "      <th></th>\n",
              "      <th>C Değeri</th>\n",
              "      <th>Eğitim Doğruluğu</th>\n",
              "      <th>Test Doğruluğu</th>\n",
              "    </tr>\n",
              "  </thead>\n",
              "  <tbody>\n",
              "    <tr>\n",
              "      <th>0</th>\n",
              "      <td>0.001</td>\n",
              "      <td>0.678</td>\n",
              "      <td>0.693</td>\n",
              "    </tr>\n",
              "    <tr>\n",
              "      <th>1</th>\n",
              "      <td>0.010</td>\n",
              "      <td>0.708</td>\n",
              "      <td>0.743</td>\n",
              "    </tr>\n",
              "    <tr>\n",
              "      <th>2</th>\n",
              "      <td>0.100</td>\n",
              "      <td>0.795</td>\n",
              "      <td>0.793</td>\n",
              "    </tr>\n",
              "    <tr>\n",
              "      <th>3</th>\n",
              "      <td>1.000</td>\n",
              "      <td>0.795</td>\n",
              "      <td>0.804</td>\n",
              "    </tr>\n",
              "    <tr>\n",
              "      <th>4</th>\n",
              "      <td>10.000</td>\n",
              "      <td>0.795</td>\n",
              "      <td>0.804</td>\n",
              "    </tr>\n",
              "    <tr>\n",
              "      <th>5</th>\n",
              "      <td>100.000</td>\n",
              "      <td>0.795</td>\n",
              "      <td>0.804</td>\n",
              "    </tr>\n",
              "    <tr>\n",
              "      <th>6</th>\n",
              "      <td>1000.000</td>\n",
              "      <td>0.795</td>\n",
              "      <td>0.804</td>\n",
              "    </tr>\n",
              "  </tbody>\n",
              "</table>\n",
              "</div>"
            ],
            "text/plain": [
              "   C Değeri  Eğitim Doğruluğu  Test Doğruluğu\n",
              "0     0.001             0.678           0.693\n",
              "1     0.010             0.708           0.743\n",
              "2     0.100             0.795           0.793\n",
              "3     1.000             0.795           0.804\n",
              "4    10.000             0.795           0.804\n",
              "5   100.000             0.795           0.804\n",
              "6  1000.000             0.795           0.804"
            ]
          },
          "metadata": {
            "tags": []
          }
        }
      ]
    },
    {
      "cell_type": "code",
      "metadata": {
        "id": "lJ3sBxNc9PoX",
        "colab_type": "code",
        "colab": {
          "base_uri": "https://localhost:8080/",
          "height": 254
        },
        "outputId": "fd89111c-97e5-4eb6-f8e9-ae9233d1642a"
      },
      "source": [
        "data.corr()"
      ],
      "execution_count": 203,
      "outputs": [
        {
          "output_type": "execute_result",
          "data": {
            "text/html": [
              "<div>\n",
              "<style scoped>\n",
              "    .dataframe tbody tr th:only-of-type {\n",
              "        vertical-align: middle;\n",
              "    }\n",
              "\n",
              "    .dataframe tbody tr th {\n",
              "        vertical-align: top;\n",
              "    }\n",
              "\n",
              "    .dataframe thead th {\n",
              "        text-align: right;\n",
              "    }\n",
              "</style>\n",
              "<table border=\"1\" class=\"dataframe\">\n",
              "  <thead>\n",
              "    <tr style=\"text-align: right;\">\n",
              "      <th></th>\n",
              "      <th>PassengerId</th>\n",
              "      <th>Survived</th>\n",
              "      <th>Pclass</th>\n",
              "      <th>Age</th>\n",
              "      <th>SibSp</th>\n",
              "      <th>Parch</th>\n",
              "      <th>Fare</th>\n",
              "    </tr>\n",
              "  </thead>\n",
              "  <tbody>\n",
              "    <tr>\n",
              "      <th>PassengerId</th>\n",
              "      <td>1.000</td>\n",
              "      <td>-0.005</td>\n",
              "      <td>-0.035</td>\n",
              "      <td>0.037</td>\n",
              "      <td>-0.058</td>\n",
              "      <td>-0.002</td>\n",
              "      <td>0.013</td>\n",
              "    </tr>\n",
              "    <tr>\n",
              "      <th>Survived</th>\n",
              "      <td>-0.005</td>\n",
              "      <td>1.000</td>\n",
              "      <td>-0.338</td>\n",
              "      <td>-0.077</td>\n",
              "      <td>-0.035</td>\n",
              "      <td>0.082</td>\n",
              "      <td>0.257</td>\n",
              "    </tr>\n",
              "    <tr>\n",
              "      <th>Pclass</th>\n",
              "      <td>-0.035</td>\n",
              "      <td>-0.338</td>\n",
              "      <td>1.000</td>\n",
              "      <td>-0.369</td>\n",
              "      <td>0.083</td>\n",
              "      <td>0.018</td>\n",
              "      <td>-0.549</td>\n",
              "    </tr>\n",
              "    <tr>\n",
              "      <th>Age</th>\n",
              "      <td>0.037</td>\n",
              "      <td>-0.077</td>\n",
              "      <td>-0.369</td>\n",
              "      <td>1.000</td>\n",
              "      <td>-0.308</td>\n",
              "      <td>-0.189</td>\n",
              "      <td>0.096</td>\n",
              "    </tr>\n",
              "    <tr>\n",
              "      <th>SibSp</th>\n",
              "      <td>-0.058</td>\n",
              "      <td>-0.035</td>\n",
              "      <td>0.083</td>\n",
              "      <td>-0.308</td>\n",
              "      <td>1.000</td>\n",
              "      <td>0.415</td>\n",
              "      <td>0.160</td>\n",
              "    </tr>\n",
              "    <tr>\n",
              "      <th>Parch</th>\n",
              "      <td>-0.002</td>\n",
              "      <td>0.082</td>\n",
              "      <td>0.018</td>\n",
              "      <td>-0.189</td>\n",
              "      <td>0.415</td>\n",
              "      <td>1.000</td>\n",
              "      <td>0.216</td>\n",
              "    </tr>\n",
              "    <tr>\n",
              "      <th>Fare</th>\n",
              "      <td>0.013</td>\n",
              "      <td>0.257</td>\n",
              "      <td>-0.549</td>\n",
              "      <td>0.096</td>\n",
              "      <td>0.160</td>\n",
              "      <td>0.216</td>\n",
              "      <td>1.000</td>\n",
              "    </tr>\n",
              "  </tbody>\n",
              "</table>\n",
              "</div>"
            ],
            "text/plain": [
              "             PassengerId  Survived  Pclass    Age  SibSp  Parch   Fare\n",
              "PassengerId        1.000    -0.005  -0.035  0.037 -0.058 -0.002  0.013\n",
              "Survived          -0.005     1.000  -0.338 -0.077 -0.035  0.082  0.257\n",
              "Pclass            -0.035    -0.338   1.000 -0.369  0.083  0.018 -0.549\n",
              "Age                0.037    -0.077  -0.369  1.000 -0.308 -0.189  0.096\n",
              "SibSp             -0.058    -0.035   0.083 -0.308  1.000  0.415  0.160\n",
              "Parch             -0.002     0.082   0.018 -0.189  0.415  1.000  0.216\n",
              "Fare               0.013     0.257  -0.549  0.096  0.160  0.216  1.000"
            ]
          },
          "metadata": {
            "tags": []
          },
          "execution_count": 203
        }
      ]
    },
    {
      "cell_type": "code",
      "metadata": {
        "id": "oNs7z1RG96mU",
        "colab_type": "code",
        "colab": {}
      },
      "source": [
        "X=data[['Pclass','Fare']]\n",
        "Y=data['Survived']"
      ],
      "execution_count": 204,
      "outputs": []
    },
    {
      "cell_type": "code",
      "metadata": {
        "id": "sQyomw0I-Z1-",
        "colab_type": "code",
        "colab": {}
      },
      "source": [
        "X_eğitim, X_test, Y_eğitim, Y_test =  train_test_split(X, Y, test_size=0.20, random_state=111)"
      ],
      "execution_count": 205,
      "outputs": []
    },
    {
      "cell_type": "code",
      "metadata": {
        "id": "eVNH5-AG-bw4",
        "colab_type": "code",
        "colab": {
          "base_uri": "https://localhost:8080/",
          "height": 101
        },
        "outputId": "eca12ab2-2cfb-4422-e5fe-eb40ba49bc28"
      },
      "source": [
        "log_reg.fit(X_eğitim, Y_eğitim)"
      ],
      "execution_count": 206,
      "outputs": [
        {
          "output_type": "execute_result",
          "data": {
            "text/plain": [
              "LogisticRegression(C=1.0, class_weight=None, dual=False, fit_intercept=True,\n",
              "                   intercept_scaling=1, l1_ratio=None, max_iter=100,\n",
              "                   multi_class='auto', n_jobs=None, penalty='l2',\n",
              "                   random_state=None, solver='lbfgs', tol=0.0001, verbose=0,\n",
              "                   warm_start=False)"
            ]
          },
          "metadata": {
            "tags": []
          },
          "execution_count": 206
        }
      ]
    },
    {
      "cell_type": "code",
      "metadata": {
        "id": "z_YTc7WQ-d9L",
        "colab_type": "code",
        "colab": {
          "base_uri": "https://localhost:8080/",
          "height": 84
        },
        "outputId": "ff4d7457-658a-4cdc-b7bb-8601e5bc260c"
      },
      "source": [
        "egitim_dogruluk = log_reg.score(X_eğitim, Y_eğitim)\n",
        "test_dogruluk = log_reg.score(X_test, Y_test)\n",
        "print('One-vs-rest', '-'*20, \n",
        "      'Modelin eğitim verisindeki doğruluğu : {:.2f}'.format(egitim_dogruluk), \n",
        "      'Modelin test verisindeki doğruluğu   : {:.2f}'.format(test_dogruluk), sep='\\n')"
      ],
      "execution_count": 207,
      "outputs": [
        {
          "output_type": "stream",
          "text": [
            "One-vs-rest\n",
            "--------------------\n",
            "Modelin eğitim verisindeki doğruluğu : 0.68\n",
            "Modelin test verisindeki doğruluğu   : 0.69\n"
          ],
          "name": "stdout"
        }
      ]
    },
    {
      "cell_type": "code",
      "metadata": {
        "id": "MPONICu2-fiA",
        "colab_type": "code",
        "colab": {
          "base_uri": "https://localhost:8080/",
          "height": 84
        },
        "outputId": "d25adaa0-faf8-44db-cb41-e5cfae135fbc"
      },
      "source": [
        "log_reg_mnm = LogisticRegression(multi_class='multinomial', solver='lbfgs')\n",
        "log_reg_mnm.fit(X_eğitim, Y_eğitim)\n",
        "egitim_dogruluk = log_reg_mnm.score(X_eğitim, Y_eğitim)\n",
        "test_dogruluk = log_reg_mnm.score(X_test, Y_test)\n",
        "print('Multinomial (Softmax)', '-'*20, \n",
        "      'Modelin eğitim verisindeki doğruluğu : {:.2f}'.format(egitim_dogruluk), \n",
        "      'Modelin test verisindeki doğruluğu   : {:.2f}'.format(test_dogruluk), sep='\\n')"
      ],
      "execution_count": 208,
      "outputs": [
        {
          "output_type": "stream",
          "text": [
            "Multinomial (Softmax)\n",
            "--------------------\n",
            "Modelin eğitim verisindeki doğruluğu : 0.68\n",
            "Modelin test verisindeki doğruluğu   : 0.69\n"
          ],
          "name": "stdout"
        }
      ]
    },
    {
      "cell_type": "code",
      "metadata": {
        "id": "nBKnmnMUAUJH",
        "colab_type": "code",
        "colab": {}
      },
      "source": [
        "from sklearn.model_selection import TimeSeriesSplit\n",
        "from sklearn.naive_bayes import GaussianNB\n",
        "\n",
        "from yellowbrick.classifier import ClassificationReport\n",
        "from yellowbrick.datasets import load_occupancy"
      ],
      "execution_count": 209,
      "outputs": []
    },
    {
      "cell_type": "code",
      "metadata": {
        "id": "tMQm46bIA9wF",
        "colab_type": "code",
        "colab": {
          "base_uri": "https://localhost:8080/",
          "height": 118
        },
        "outputId": "31808259-ebf7-457a-fef3-14429187ad76"
      },
      "source": [
        "X=data[['Pclass','Sex','SibSp','Parch','Fare','Embarked']]\n",
        "X.head()\n",
        "Y=data['Survived']\n",
        "Y.head()"
      ],
      "execution_count": 216,
      "outputs": [
        {
          "output_type": "execute_result",
          "data": {
            "text/plain": [
              "0    0\n",
              "1    1\n",
              "2    1\n",
              "3    1\n",
              "4    0\n",
              "Name: Survived, dtype: int64"
            ]
          },
          "metadata": {
            "tags": []
          },
          "execution_count": 216
        }
      ]
    },
    {
      "cell_type": "code",
      "metadata": {
        "id": "60vAt1XUBCh_",
        "colab_type": "code",
        "colab": {
          "base_uri": "https://localhost:8080/",
          "height": 195
        },
        "outputId": "7e27f20f-d424-45ec-c74c-c243a3542fa2"
      },
      "source": [
        "X=pd.get_dummies(X,prefix_sep='_',drop_first=True)\n",
        "X.head()"
      ],
      "execution_count": 217,
      "outputs": [
        {
          "output_type": "execute_result",
          "data": {
            "text/html": [
              "<div>\n",
              "<style scoped>\n",
              "    .dataframe tbody tr th:only-of-type {\n",
              "        vertical-align: middle;\n",
              "    }\n",
              "\n",
              "    .dataframe tbody tr th {\n",
              "        vertical-align: top;\n",
              "    }\n",
              "\n",
              "    .dataframe thead th {\n",
              "        text-align: right;\n",
              "    }\n",
              "</style>\n",
              "<table border=\"1\" class=\"dataframe\">\n",
              "  <thead>\n",
              "    <tr style=\"text-align: right;\">\n",
              "      <th></th>\n",
              "      <th>Pclass</th>\n",
              "      <th>SibSp</th>\n",
              "      <th>Parch</th>\n",
              "      <th>Fare</th>\n",
              "      <th>Sex_male</th>\n",
              "      <th>Embarked_Q</th>\n",
              "      <th>Embarked_S</th>\n",
              "    </tr>\n",
              "  </thead>\n",
              "  <tbody>\n",
              "    <tr>\n",
              "      <th>0</th>\n",
              "      <td>3</td>\n",
              "      <td>1</td>\n",
              "      <td>0</td>\n",
              "      <td>7.250</td>\n",
              "      <td>1</td>\n",
              "      <td>0</td>\n",
              "      <td>1</td>\n",
              "    </tr>\n",
              "    <tr>\n",
              "      <th>1</th>\n",
              "      <td>1</td>\n",
              "      <td>1</td>\n",
              "      <td>0</td>\n",
              "      <td>71.283</td>\n",
              "      <td>0</td>\n",
              "      <td>0</td>\n",
              "      <td>0</td>\n",
              "    </tr>\n",
              "    <tr>\n",
              "      <th>2</th>\n",
              "      <td>3</td>\n",
              "      <td>0</td>\n",
              "      <td>0</td>\n",
              "      <td>7.925</td>\n",
              "      <td>0</td>\n",
              "      <td>0</td>\n",
              "      <td>1</td>\n",
              "    </tr>\n",
              "    <tr>\n",
              "      <th>3</th>\n",
              "      <td>1</td>\n",
              "      <td>1</td>\n",
              "      <td>0</td>\n",
              "      <td>53.100</td>\n",
              "      <td>0</td>\n",
              "      <td>0</td>\n",
              "      <td>1</td>\n",
              "    </tr>\n",
              "    <tr>\n",
              "      <th>4</th>\n",
              "      <td>3</td>\n",
              "      <td>0</td>\n",
              "      <td>0</td>\n",
              "      <td>8.050</td>\n",
              "      <td>1</td>\n",
              "      <td>0</td>\n",
              "      <td>1</td>\n",
              "    </tr>\n",
              "  </tbody>\n",
              "</table>\n",
              "</div>"
            ],
            "text/plain": [
              "   Pclass  SibSp  Parch   Fare  Sex_male  Embarked_Q  Embarked_S\n",
              "0       3      1      0  7.250         1           0           1\n",
              "1       1      1      0 71.283         0           0           0\n",
              "2       3      0      0  7.925         0           0           1\n",
              "3       1      1      0 53.100         0           0           1\n",
              "4       3      0      0  8.050         1           0           1"
            ]
          },
          "metadata": {
            "tags": []
          },
          "execution_count": 217
        }
      ]
    },
    {
      "cell_type": "code",
      "metadata": {
        "id": "bdYtp4unAa2l",
        "colab_type": "code",
        "colab": {}
      },
      "source": [
        "# Specify the target classes\n",
        "classes = [\"Survived\", \"Dead\"]"
      ],
      "execution_count": 212,
      "outputs": []
    },
    {
      "cell_type": "code",
      "metadata": {
        "id": "iJ4bbFZjAiHS",
        "colab_type": "code",
        "colab": {}
      },
      "source": [
        "# Create the training and test data\n",
        "tscv = TimeSeriesSplit()\n",
        "for train_index, test_index in tscv.split(X):\n",
        "    X_train, X_test = X.iloc[train_index], X.iloc[test_index]\n",
        "    Y_train, Y_test = Y.iloc[train_index], Y.iloc[test_index]"
      ],
      "execution_count": 219,
      "outputs": []
    },
    {
      "cell_type": "code",
      "metadata": {
        "id": "ey6ApOrbAokT",
        "colab_type": "code",
        "colab": {}
      },
      "source": [
        "# Instantiate the classification model and visualizer\n",
        "model = GaussianNB()\n",
        "visualizer = ClassificationReport(model, classes=classes, support=True)"
      ],
      "execution_count": 214,
      "outputs": []
    },
    {
      "cell_type": "code",
      "metadata": {
        "id": "8RZwza53Ap-X",
        "colab_type": "code",
        "colab": {
          "base_uri": "https://localhost:8080/",
          "height": 531
        },
        "outputId": "02c7210b-efee-4bea-d93c-741dfbcb2376"
      },
      "source": [
        "visualizer.fit(X_train, Y_train)        # Fit the visualizer and the model\n",
        "visualizer.score(X_test, Y_test)        # Evaluate the model on the test data\n",
        "visualizer.show()                       # Finalize and show the figure"
      ],
      "execution_count": 220,
      "outputs": [
        {
          "output_type": "error",
          "ename": "AttributeError",
          "evalue": "ignored",
          "traceback": [
            "\u001b[0;31m---------------------------------------------------------------------------\u001b[0m",
            "\u001b[0;31mAttributeError\u001b[0m                            Traceback (most recent call last)",
            "\u001b[0;32m<ipython-input-220-3b10b6f9402b>\u001b[0m in \u001b[0;36m<module>\u001b[0;34m()\u001b[0m\n\u001b[1;32m      1\u001b[0m \u001b[0mvisualizer\u001b[0m\u001b[0;34m.\u001b[0m\u001b[0mfit\u001b[0m\u001b[0;34m(\u001b[0m\u001b[0mX_train\u001b[0m\u001b[0;34m,\u001b[0m \u001b[0mY_train\u001b[0m\u001b[0;34m)\u001b[0m        \u001b[0;31m# Fit the visualizer and the model\u001b[0m\u001b[0;34m\u001b[0m\u001b[0;34m\u001b[0m\u001b[0m\n\u001b[1;32m      2\u001b[0m \u001b[0mvisualizer\u001b[0m\u001b[0;34m.\u001b[0m\u001b[0mscore\u001b[0m\u001b[0;34m(\u001b[0m\u001b[0mX_test\u001b[0m\u001b[0;34m,\u001b[0m \u001b[0mY_test\u001b[0m\u001b[0;34m)\u001b[0m        \u001b[0;31m# Evaluate the model on the test data\u001b[0m\u001b[0;34m\u001b[0m\u001b[0;34m\u001b[0m\u001b[0m\n\u001b[0;32m----> 3\u001b[0;31m \u001b[0mvisualizer\u001b[0m\u001b[0;34m.\u001b[0m\u001b[0mshow\u001b[0m\u001b[0;34m(\u001b[0m\u001b[0;34m)\u001b[0m                       \u001b[0;31m# Finalize and show the figure\u001b[0m\u001b[0;34m\u001b[0m\u001b[0;34m\u001b[0m\u001b[0m\n\u001b[0m",
            "\u001b[0;32m/usr/local/lib/python3.6/dist-packages/yellowbrick/utils/wrapper.py\u001b[0m in \u001b[0;36m__getattr__\u001b[0;34m(self, attr)\u001b[0m\n\u001b[1;32m     40\u001b[0m     \u001b[0;32mdef\u001b[0m \u001b[0m__getattr__\u001b[0m\u001b[0;34m(\u001b[0m\u001b[0mself\u001b[0m\u001b[0;34m,\u001b[0m \u001b[0mattr\u001b[0m\u001b[0;34m)\u001b[0m\u001b[0;34m:\u001b[0m\u001b[0;34m\u001b[0m\u001b[0;34m\u001b[0m\u001b[0m\n\u001b[1;32m     41\u001b[0m         \u001b[0;31m# proxy to the wrapped object\u001b[0m\u001b[0;34m\u001b[0m\u001b[0;34m\u001b[0m\u001b[0;34m\u001b[0m\u001b[0m\n\u001b[0;32m---> 42\u001b[0;31m         \u001b[0;32mreturn\u001b[0m \u001b[0mgetattr\u001b[0m\u001b[0;34m(\u001b[0m\u001b[0mself\u001b[0m\u001b[0;34m.\u001b[0m\u001b[0m_wrapped\u001b[0m\u001b[0;34m,\u001b[0m \u001b[0mattr\u001b[0m\u001b[0;34m)\u001b[0m\u001b[0;34m\u001b[0m\u001b[0;34m\u001b[0m\u001b[0m\n\u001b[0m",
            "\u001b[0;31mAttributeError\u001b[0m: 'GaussianNB' object has no attribute 'show'"
          ]
        },
        {
          "output_type": "display_data",
          "data": {
            "image/png": "[encoded data removed]",
            "text/plain": [
              "<Figure size 432x288 with 1 Axes>"
            ]
          },
          "metadata": {
            "tags": [],
            "needs_background": "light"
          }
        }
      ]
    },
    {
      "cell_type": "code",
      "metadata": {
        "id": "4RffHaIiEm7p",
        "colab_type": "code",
        "colab": {
          "base_uri": "https://localhost:8080/",
          "height": 118
        },
        "outputId": "ff7fb28f-37c6-4905-a544-6d93519f438b"
      },
      "source": [
        "X=data[['Pclass','Sex','SibSp','Parch','Fare','Embarked']]\n",
        "X.head()\n",
        "Y=data['Survived']\n",
        "Y.head()"
      ],
      "execution_count": 223,
      "outputs": [
        {
          "output_type": "execute_result",
          "data": {
            "text/plain": [
              "0    0\n",
              "1    1\n",
              "2    1\n",
              "3    1\n",
              "4    0\n",
              "Name: Survived, dtype: int64"
            ]
          },
          "metadata": {
            "tags": []
          },
          "execution_count": 223
        }
      ]
    },
    {
      "cell_type": "code",
      "metadata": {
        "id": "z-Jilp1cEpCm",
        "colab_type": "code",
        "colab": {
          "base_uri": "https://localhost:8080/",
          "height": 195
        },
        "outputId": "98b5090d-e361-4c68-89be-2e6d59fda2ff"
      },
      "source": [
        "X=pd.get_dummies(X,prefix_sep='_',drop_first=True)\n",
        "X.head()"
      ],
      "execution_count": 224,
      "outputs": [
        {
          "output_type": "execute_result",
          "data": {
            "text/html": [
              "<div>\n",
              "<style scoped>\n",
              "    .dataframe tbody tr th:only-of-type {\n",
              "        vertical-align: middle;\n",
              "    }\n",
              "\n",
              "    .dataframe tbody tr th {\n",
              "        vertical-align: top;\n",
              "    }\n",
              "\n",
              "    .dataframe thead th {\n",
              "        text-align: right;\n",
              "    }\n",
              "</style>\n",
              "<table border=\"1\" class=\"dataframe\">\n",
              "  <thead>\n",
              "    <tr style=\"text-align: right;\">\n",
              "      <th></th>\n",
              "      <th>Pclass</th>\n",
              "      <th>SibSp</th>\n",
              "      <th>Parch</th>\n",
              "      <th>Fare</th>\n",
              "      <th>Sex_male</th>\n",
              "      <th>Embarked_Q</th>\n",
              "      <th>Embarked_S</th>\n",
              "    </tr>\n",
              "  </thead>\n",
              "  <tbody>\n",
              "    <tr>\n",
              "      <th>0</th>\n",
              "      <td>3</td>\n",
              "      <td>1</td>\n",
              "      <td>0</td>\n",
              "      <td>7.250</td>\n",
              "      <td>1</td>\n",
              "      <td>0</td>\n",
              "      <td>1</td>\n",
              "    </tr>\n",
              "    <tr>\n",
              "      <th>1</th>\n",
              "      <td>1</td>\n",
              "      <td>1</td>\n",
              "      <td>0</td>\n",
              "      <td>71.283</td>\n",
              "      <td>0</td>\n",
              "      <td>0</td>\n",
              "      <td>0</td>\n",
              "    </tr>\n",
              "    <tr>\n",
              "      <th>2</th>\n",
              "      <td>3</td>\n",
              "      <td>0</td>\n",
              "      <td>0</td>\n",
              "      <td>7.925</td>\n",
              "      <td>0</td>\n",
              "      <td>0</td>\n",
              "      <td>1</td>\n",
              "    </tr>\n",
              "    <tr>\n",
              "      <th>3</th>\n",
              "      <td>1</td>\n",
              "      <td>1</td>\n",
              "      <td>0</td>\n",
              "      <td>53.100</td>\n",
              "      <td>0</td>\n",
              "      <td>0</td>\n",
              "      <td>1</td>\n",
              "    </tr>\n",
              "    <tr>\n",
              "      <th>4</th>\n",
              "      <td>3</td>\n",
              "      <td>0</td>\n",
              "      <td>0</td>\n",
              "      <td>8.050</td>\n",
              "      <td>1</td>\n",
              "      <td>0</td>\n",
              "      <td>1</td>\n",
              "    </tr>\n",
              "  </tbody>\n",
              "</table>\n",
              "</div>"
            ],
            "text/plain": [
              "   Pclass  SibSp  Parch   Fare  Sex_male  Embarked_Q  Embarked_S\n",
              "0       3      1      0  7.250         1           0           1\n",
              "1       1      1      0 71.283         0           0           0\n",
              "2       3      0      0  7.925         0           0           1\n",
              "3       1      1      0 53.100         0           0           1\n",
              "4       3      0      0  8.050         1           0           1"
            ]
          },
          "metadata": {
            "tags": []
          },
          "execution_count": 224
        }
      ]
    },
    {
      "cell_type": "code",
      "metadata": {
        "id": "FrG0xDCVEegK",
        "colab_type": "code",
        "colab": {}
      },
      "source": [
        "from sklearn.model_selection import train_test_split\n",
        "X_eğitim, X_test, Y_eğitim, Y_test =  train_test_split(X, Y, test_size=0.20, random_state=111)"
      ],
      "execution_count": 225,
      "outputs": []
    },
    {
      "cell_type": "code",
      "metadata": {
        "id": "1VAQwaW5DuzQ",
        "colab_type": "code",
        "colab": {}
      },
      "source": [
        "#Yeni düzene geçiyorum\n",
        "\n",
        "yasam_tahmin_modeli = LogisticRegression()\n",
        "yasam_tahmin_modeli.fit(X_eğitim, Y_eğitim)\n",
        "\n",
        "tahmin_eğitim = yasam_tahmin_modeli.predict(X_eğitim)\n",
        "tahmin_test = yasam_tahmin_modeli.predict(X_test)"
      ],
      "execution_count": 226,
      "outputs": []
    },
    {
      "cell_type": "code",
      "metadata": {
        "id": "aCjEl2VlE-g4",
        "colab_type": "code",
        "colab": {}
      },
      "source": [
        "tahmin_test_ihtimal = yasam_tahmin_modeli.predict_proba(X_test)[:,1]"
      ],
      "execution_count": 227,
      "outputs": []
    },
    {
      "cell_type": "code",
      "metadata": {
        "id": "CdV1e8wAFDEi",
        "colab_type": "code",
        "colab": {}
      },
      "source": [
        "from sklearn.metrics import confusion_matrix\n",
        "hata_matrisi_eğitim = confusion_matrix(Y_eğitim, tahmin_eğitim)\n",
        "hata_matrisi_test = confusion_matrix(Y_test, tahmin_test)"
      ],
      "execution_count": 228,
      "outputs": []
    },
    {
      "cell_type": "code",
      "metadata": {
        "id": "v-Henfw5FKO1",
        "colab_type": "code",
        "colab": {
          "base_uri": "https://localhost:8080/",
          "height": 151
        },
        "outputId": "6252642f-1df1-4848-96d8-808e07f2f940"
      },
      "source": [
        "print(\"Hata Matrisi (Eğitim verileri)\", \"-\"*30, hata_matrisi_eğitim, sep=\"\\n\")\n",
        "print(\"Hata Matrisi (Test verileri)\", \"-\"*30, hata_matrisi_test, sep=\"\\n\")"
      ],
      "execution_count": 229,
      "outputs": [
        {
          "output_type": "stream",
          "text": [
            "Hata Matrisi (Eğitim verileri)\n",
            "------------------------------\n",
            "[[377  59]\n",
            " [ 87 189]]\n",
            "Hata Matrisi (Test verileri)\n",
            "------------------------------\n",
            "[[101  12]\n",
            " [ 23  43]]\n"
          ],
          "name": "stdout"
        }
      ]
    },
    {
      "cell_type": "code",
      "metadata": {
        "id": "sQ4NBTp_FO9H",
        "colab_type": "code",
        "colab": {
          "base_uri": "https://localhost:8080/",
          "height": 84
        },
        "outputId": "bddc8611-154b-4ff9-ba67-eeb8b89ba2e6"
      },
      "source": [
        "TN = hata_matrisi_test[0][0]\n",
        "TP = hata_matrisi_test[1][1]\n",
        "FP = hata_matrisi_test[0][1]\n",
        "FN = hata_matrisi_test[1][0]\n",
        "\n",
        "print(\"Doğru negatif sayısı   :\", TN)\n",
        "print(\"Doğru pozitif sayısı   :\", TP)\n",
        "print(\"Yanlış pozitif sayısı  :\", FP)\n",
        "print(\"Yanlış negatif sayısı  :\", FN)"
      ],
      "execution_count": 230,
      "outputs": [
        {
          "output_type": "stream",
          "text": [
            "Doğru negatif sayısı   : 101\n",
            "Doğru pozitif sayısı   : 43\n",
            "Yanlış pozitif sayısı  : 12\n",
            "Yanlış negatif sayısı  : 23\n"
          ],
          "name": "stdout"
        }
      ]
    },
    {
      "cell_type": "code",
      "metadata": {
        "id": "dT_SDrkpFTPZ",
        "colab_type": "code",
        "colab": {
          "base_uri": "https://localhost:8080/",
          "height": 67
        },
        "outputId": "45980343-e145-45be-bbb4-a2d902936874"
      },
      "source": [
        "from sklearn.metrics import accuracy_score\n",
        "\n",
        "print(\"Modelden alınan doğruluk değeri : \",  yasam_tahmin_modeli.score(X_test, Y_test))\n",
        "print(\"Hesaplanan doğruluk değeri      : \",  (TN + TP)/(FN + FP + TN + TP))\n",
        "print(\"accuracy_score() değeri         : \",  accuracy_score(Y_test, tahmin_test))"
      ],
      "execution_count": 231,
      "outputs": [
        {
          "output_type": "stream",
          "text": [
            "Modelden alınan doğruluk değeri :  0.8044692737430168\n",
            "Hesaplanan doğruluk değeri      :  0.8044692737430168\n",
            "accuracy_score() değeri         :  0.8044692737430168\n"
          ],
          "name": "stdout"
        }
      ]
    },
    {
      "cell_type": "code",
      "metadata": {
        "id": "Z0Hnp4O3Fe5u",
        "colab_type": "code",
        "colab": {
          "base_uri": "https://localhost:8080/",
          "height": 50
        },
        "outputId": "1cba079c-1dfe-40d2-816e-8092a694167f"
      },
      "source": [
        "from sklearn.metrics import precision_score\n",
        "\n",
        "print(\"Hesaplanan doğruluk değeri      : \",  (TP)/(FP + TP))\n",
        "print(\"precision_score() değeri        : \",  precision_score(Y_test, tahmin_test))"
      ],
      "execution_count": 232,
      "outputs": [
        {
          "output_type": "stream",
          "text": [
            "Hesaplanan doğruluk değeri      :  0.7818181818181819\n",
            "precision_score() değeri        :  0.7818181818181819\n"
          ],
          "name": "stdout"
        }
      ]
    },
    {
      "cell_type": "code",
      "metadata": {
        "id": "2zSNmpedFjhR",
        "colab_type": "code",
        "colab": {
          "base_uri": "https://localhost:8080/",
          "height": 50
        },
        "outputId": "8fd8fb9f-a6c4-4d79-a640-9104cbf2efee"
      },
      "source": [
        "from sklearn.metrics import recall_score\n",
        "\n",
        "print(\"Hesaplanan doğruluk değeri   : \",  (TP)/(TP + FN))\n",
        "print(\"recall_score() değeri        : \",  recall_score(Y_test, tahmin_test))"
      ],
      "execution_count": 233,
      "outputs": [
        {
          "output_type": "stream",
          "text": [
            "Hesaplanan doğruluk değeri   :  0.6515151515151515\n",
            "recall_score() değeri        :  0.6515151515151515\n"
          ],
          "name": "stdout"
        }
      ]
    },
    {
      "cell_type": "code",
      "metadata": {
        "id": "kKBkuuDrFnvU",
        "colab_type": "code",
        "colab": {
          "base_uri": "https://localhost:8080/",
          "height": 34
        },
        "outputId": "2dc41888-c1a2-45bc-a95a-a24205f1cc18"
      },
      "source": [
        "print(\"Hesaplanan özgünlük değeri   : \",  (TN)/(TN + FP))"
      ],
      "execution_count": 234,
      "outputs": [
        {
          "output_type": "stream",
          "text": [
            "Hesaplanan özgünlük değeri   :  0.8938053097345132\n"
          ],
          "name": "stdout"
        }
      ]
    },
    {
      "cell_type": "code",
      "metadata": {
        "id": "5lumdTIfFrNB",
        "colab_type": "code",
        "colab": {
          "base_uri": "https://localhost:8080/",
          "height": 50
        },
        "outputId": "5423a123-6f01-45e8-a8ae-475d82c646d1"
      },
      "source": [
        "from sklearn.metrics import f1_score\n",
        "\n",
        "hassasiyet_degeri = precision_score(Y_test, tahmin_test)\n",
        "duyarlılık_değeri = recall_score(Y_test, tahmin_test)\n",
        "\n",
        "\n",
        "print(\"Hesaplanan f1 skoru   : \",  2*((hassasiyet_degeri*duyarlılık_değeri)/(hassasiyet_degeri + duyarlılık_değeri)))\n",
        "print(\"f1_score() değeri     : \",  f1_score(Y_test, tahmin_test))"
      ],
      "execution_count": 235,
      "outputs": [
        {
          "output_type": "stream",
          "text": [
            "Hesaplanan f1 skoru   :  0.7107438016528926\n",
            "f1_score() değeri     :  0.7107438016528926\n"
          ],
          "name": "stdout"
        }
      ]
    },
    {
      "cell_type": "code",
      "metadata": {
        "id": "3BAQRS6VF27v",
        "colab_type": "code",
        "colab": {
          "base_uri": "https://localhost:8080/",
          "height": 302
        },
        "outputId": "89818731-1bc7-4f67-beab-1b10a66267a5"
      },
      "source": [
        "from sklearn.metrics import classification_report, precision_recall_fscore_support\n",
        "\n",
        "print(classification_report(Y_test,tahmin_test) )\n",
        "\n",
        "print(\"f1_score() değeri        : {:.2f}\".format(f1_score(Y_test, tahmin_test)))\n",
        "print(\"recall_score() değeri    : {:.2f}\".format(recall_score(Y_test, tahmin_test)))\n",
        "print(\"precision_score() değeri : {:.2f}\".format(precision_score(Y_test, tahmin_test)))\n",
        "print('\\n')\n",
        "\n",
        "metrikler =  precision_recall_fscore_support(Y_test, tahmin_test)\n",
        "print(\"Hassasiyet :\" , metrikler[0]) \n",
        "print(\"Duyarlılık :\" , metrikler[1]) \n",
        "print(\"F1 Skoru   :\" , metrikler[2]) "
      ],
      "execution_count": 237,
      "outputs": [
        {
          "output_type": "stream",
          "text": [
            "              precision    recall  f1-score   support\n",
            "\n",
            "           0       0.81      0.89      0.85       113\n",
            "           1       0.78      0.65      0.71        66\n",
            "\n",
            "    accuracy                           0.80       179\n",
            "   macro avg       0.80      0.77      0.78       179\n",
            "weighted avg       0.80      0.80      0.80       179\n",
            "\n",
            "f1_score() değeri        : 0.71\n",
            "recall_score() değeri    : 0.65\n",
            "precision_score() değeri : 0.78\n",
            "\n",
            "\n",
            "Hassasiyet : [0.81451613 0.78181818]\n",
            "Duyarlılık : [0.89380531 0.65151515]\n",
            "F1 Skoru   : [0.85232068 0.7107438 ]\n"
          ],
          "name": "stdout"
        }
      ]
    },
    {
      "cell_type": "code",
      "metadata": {
        "id": "mzDeEpQ1GHES",
        "colab_type": "code",
        "colab": {
          "base_uri": "https://localhost:8080/",
          "height": 294
        },
        "outputId": "99b9b1b5-fae7-4c9d-d850-c5796371b2d4"
      },
      "source": [
        "from sklearn.metrics import roc_curve, roc_auc_score\n",
        "\n",
        "fpr, tpr, thresholds  = roc_curve(Y_test, tahmin_test_ihtimal)\n",
        "\n",
        "import matplotlib.pyplot as plt\n",
        "# Plot ROC curve\n",
        "plt.plot([0, 1], [0, 1], 'k--')\n",
        "plt.plot(fpr, tpr)\n",
        "plt.xlabel('False Positive Rate')\n",
        "plt.ylabel('True Positive Rate')\n",
        "plt.title('ROC Curve')\n",
        "plt.show()"
      ],
      "execution_count": 238,
      "outputs": [
        {
          "output_type": "display_data",
          "data": {
            "image/png": "[encoded data removed]",
            "text/plain": [
              "<Figure size 432x288 with 1 Axes>"
            ]
          },
          "metadata": {
            "tags": [],
            "needs_background": "light"
          }
        }
      ]
    },
    {
      "cell_type": "code",
      "metadata": {
        "id": "ZbB-TJpwGMZP",
        "colab_type": "code",
        "colab": {
          "base_uri": "https://localhost:8080/",
          "height": 34
        },
        "outputId": "8ac12493-83a2-426d-c660-ac2e6360e8a3"
      },
      "source": [
        "print('AUC Değeri : ', roc_auc_score(Y_test, tahmin_test_ihtimal))"
      ],
      "execution_count": 239,
      "outputs": [
        {
          "output_type": "stream",
          "text": [
            "AUC Değeri :  0.8125502815768302\n"
          ],
          "name": "stdout"
        }
      ]
    },
    {
      "cell_type": "code",
      "metadata": {
        "id": "cvpSOWlTGQVO",
        "colab_type": "code",
        "colab": {
          "base_uri": "https://localhost:8080/",
          "height": 265
        },
        "outputId": "f227795c-3d40-4540-bc8c-aa562e70f1a8"
      },
      "source": [
        "from sklearn.metrics import precision_recall_curve\n",
        "hassasiyet, duyarlılık, _ = precision_recall_curve(Y_test, tahmin_test_ihtimal)\n",
        "\n",
        "plt.plot(duyarlılık, hassasiyet)\n",
        "plt.show()"
      ],
      "execution_count": 240,
      "outputs": [
        {
          "output_type": "display_data",
          "data": {
            "image/png": "[encoded data removed]",
            "text/plain": [
              "<Figure size 432x288 with 1 Axes>"
            ]
          },
          "metadata": {
            "tags": [],
            "needs_background": "light"
          }
        }
      ]
    },
    {
      "cell_type": "code",
      "metadata": {
        "id": "oNKIVSy2GVAb",
        "colab_type": "code",
        "colab": {
          "base_uri": "https://localhost:8080/",
          "height": 50
        },
        "outputId": "07f5a1b9-30a6-4a70-cc58-925a86ae9c29"
      },
      "source": [
        "from sklearn.metrics import log_loss\n",
        "\n",
        "print(\"Logartimik Kayıp (log-loss) : \" , log_loss(Y_test, tahmin_test_ihtimal))\n",
        "print(\"Hata Oranı                  : \" , 1- accuracy_score(Y_test, tahmin_test))"
      ],
      "execution_count": 241,
      "outputs": [
        {
          "output_type": "stream",
          "text": [
            "Logartimik Kayıp (log-loss) :  0.46642932358474937\n",
            "Hata Oranı                  :  0.1955307262569832\n"
          ],
          "name": "stdout"
        }
      ]
    }
  ]
}